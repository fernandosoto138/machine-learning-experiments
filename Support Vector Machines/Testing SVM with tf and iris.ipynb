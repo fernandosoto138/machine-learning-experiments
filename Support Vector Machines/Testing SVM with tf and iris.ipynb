{
 "cells": [
  {
   "cell_type": "code",
   "execution_count": 3,
   "metadata": {},
   "outputs": [],
   "source": [
    "# Imports\n",
    "import matplotlib.pyplot as plt\n",
    "import numpy as np\n",
    "import tensorflow as tf\n",
    "import pandas as pd\n",
    "from sklearn import datasets"
   ]
  },
  {
   "cell_type": "code",
   "execution_count": 24,
   "metadata": {},
   "outputs": [],
   "source": [
    "# Load Data \n",
    "iris = datasets.load_iris()\n",
    "data_df = pd.DataFrame(data, columns = [\"Sepal Len\", \"Sepal Width\", \"Petal Len\", \"Petal Width\"])\n",
    "target_df = pd.DataFrame(target)"
   ]
  },
  {
   "cell_type": "code",
   "execution_count": 41,
   "metadata": {},
   "outputs": [],
   "source": [
    "x_values = data_df.ix[:,[\"Sepal Len\",\"Petal Width\"]]\n",
    "# Replace values of the labels to adapt them for the SVM model\n",
    "y_values = target_df.replace(to_replace = [0,2], value = [-1,1])"
   ]
  },
  {
   "cell_type": "code",
   "execution_count": 50,
   "metadata": {},
   "outputs": [],
   "source": [
    "# Separate Train data and Test Data \n",
    "msk = np.random.rand(len(x_values)) < 0.8\n",
    "x_train = x_values[msk]\n",
    "y_train = y_values[msk]\n",
    "x_test = x_values[~msk]\n",
    "y_test = y_values[~msk]"
   ]
  },
  {
   "cell_type": "code",
   "execution_count": 213,
   "metadata": {},
   "outputs": [],
   "source": [
    "# Start with Tensorflow \n",
    "sess = tf.Session()\n",
    "# Configurate places where we put our data \n",
    "x_data = tf.placeholder(shape=[None, 2], dtype=tf.float32)\n",
    "y_target = tf.placeholder(shape=[None, 1], dtype=tf.float32)\n",
    "# This is the variables we want to train \n",
    "A = tf.Variable(tf.random_normal(shape=[2,1]))\n",
    "b = tf.Variable(tf.random_normal(shape=[1,1]))\n",
    "model_output = tf.matmul(x_data, A) - b \n",
    "l2_norm = tf.reduce_sum(tf.square(A))\n",
    "# margin constant for SVM\n",
    "alpha = tf.constant([0.01])\n",
    "#classification_term = tf.reduce_mean(tf.maximum(0., 1. - model_output))\n",
    "classification_term = tf.reduce_mean(tf.maximum(0., tf.subtract(1., tf.multiply(model_output, y_target))))\n",
    "loss = classification_term + alpha*l2_norm\n",
    "prediction = tf.sign(model_output)\n",
    "accuracy = tf.reduce_mean(tf.cast(tf.equal(prediction, y_target),tf.float32))\n",
    "my_opt = tf.train.GradientDescentOptimizer(0.01)\n",
    "train_step = my_opt.minimize(loss)\n",
    "init = tf.global_variables_initializer()\n",
    "sess.run(init)"
   ]
  },
  {
   "cell_type": "code",
   "execution_count": 220,
   "metadata": {},
   "outputs": [
    {
     "name": "stdout",
     "output_type": "stream",
     "text": [
      "Loss = [ 0.09075801]\n",
      "Loss = [ 0.08971681]\n",
      "Loss = [ 0.10340531]\n",
      "Loss = [ 0.11985704]\n",
      "Loss = [ 0.09581061]\n",
      "Loss = [ 0.07999936]\n",
      "Loss = [ 0.08613099]\n",
      "Loss = [ 0.08755745]\n",
      "Loss = [ 0.08402228]\n",
      "Loss = [ 0.09266701]\n",
      "Loss = [ 0.09068055]\n",
      "Loss = [ 0.07872377]\n",
      "Loss = [ 0.10657073]\n",
      "Loss = [ 0.09652995]\n",
      "Loss = [ 0.0896838]\n",
      "Loss = [ 0.08320903]\n",
      "Loss = [ 0.0901743]\n",
      "Loss = [ 0.07487698]\n",
      "Loss = [ 0.08068867]\n",
      "Loss = [ 0.07123765]\n"
     ]
    }
   ],
   "source": [
    "batch_size = 100\n",
    "loss_vec = []\n",
    "train_accuracy = []\n",
    "test_accuracy = []\n",
    "for i in range(2000):\n",
    "    rand_index = np.random.choice(len(x_train), size=batch_size)\n",
    "    rand_x = x_train.iloc[rand_index]\n",
    "    rand_y = y_train.iloc[rand_index]\n",
    "    sess.run(train_step, feed_dict={x_data: rand_x, y_target: rand_y})\n",
    "\n",
    "    temp_loss = sess.run(loss, feed_dict={x_data: rand_x, y_target: rand_y})\n",
    "    loss_vec.append(temp_loss)\n",
    "\n",
    "    train_acc_temp = sess.run(accuracy, feed_dict={\n",
    "        x_data: x_train,\n",
    "        y_target: y_train})\n",
    "    train_accuracy.append(train_acc_temp)\n",
    "\n",
    "    test_acc_temp = sess.run(accuracy, feed_dict={\n",
    "        x_data: x_test,\n",
    "        y_target: y_test})\n",
    "    test_accuracy.append(test_acc_temp)\n",
    "\n",
    "    if (i + 1) % 250 == 0:\n",
    "        print('Loss = ' + str(temp_loss))"
   ]
  },
  {
   "cell_type": "code",
   "execution_count": 226,
   "metadata": {},
   "outputs": [],
   "source": [
    "A_value = sess.run(A)\n",
    "b_value = sess.run(b)[0,0]"
   ]
  },
  {
   "cell_type": "code",
   "execution_count": 227,
   "metadata": {},
   "outputs": [],
   "source": [
    "a1 = A_value[0, 0]\n",
    "a2 = A_value[1, 0]\n",
    "\n",
    "slope = -a2/a1\n",
    "y_intercept = b_value/a1\n"
   ]
  },
  {
   "cell_type": "code",
   "execution_count": 228,
   "metadata": {},
   "outputs": [],
   "source": [
    "sepal_length = x_values.loc[:, [\"Sepal Len\"]].values.flatten()\n",
    "petal_width = x_values.loc[:, [\"Petal Width\"]].values.flatten()\n",
    "\n",
    "x_line = np.arange(start=min(petal_width), stop=max(petal_width), step=0.1)\n",
    "y_line = []\n",
    "for i in x_line:\n",
    "    y_line.append(slope*i+y_intercept)\n",
    "\n"
   ]
  },
  {
   "cell_type": "code",
   "execution_count": 230,
   "metadata": {},
   "outputs": [
    {
     "data": {
      "image/png": "[encoded data removed]",
      "text/plain": [
       "<matplotlib.figure.Figure at 0x1a1f541588>"
      ]
     },
     "metadata": {},
     "output_type": "display_data"
    }
   ],
   "source": [
    "%matplotlib inline\n",
    "# Plot data and line\n",
    "plt.plot(petal_width, sepal_length, 'o')\n",
    "plt.plot(x_line, y_line, 'r')\n",
    "plt.title('Sepal Length vs Pedal Width')\n",
    "plt.ylim([min(sepal_length)*0.9, max(sepal_length)*1.1])\n",
    "plt.xlabel('Pedal Width')\n",
    "plt.ylabel('Sepal Length')\n",
    "plt.show()"
   ]
  },
  {
   "cell_type": "code",
   "execution_count": null,
   "metadata": {},
   "outputs": [],
   "source": []
  },
  {
   "cell_type": "code",
   "execution_count": null,
   "metadata": {},
   "outputs": [],
   "source": []
  }
 ],
 "metadata": {
  "kernelspec": {
   "display_name": "Python 3",
   "language": "python",
   "name": "python3"
  },
  "language_info": {
   "codemirror_mode": {
    "name": "ipython",
    "version": 3
   },
   "file_extension": ".py",
   "mimetype": "text/x-python",
   "name": "python",
   "nbconvert_exporter": "python",
   "pygments_lexer": "ipython3",
   "version": "3.6.4"
  }
 },
 "nbformat": 4,
 "nbformat_minor": 2
}
